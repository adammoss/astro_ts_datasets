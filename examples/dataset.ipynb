{
 "cells": [
  {
   "cell_type": "code",
   "execution_count": 1,
   "metadata": {},
   "outputs": [],
   "source": [
    "import sys, platform, os\n",
    "import matplotlib\n",
    "from matplotlib import pyplot as plt\n",
    "import numpy as np\n",
    "import tensorflow_datasets as tfds\n",
    "import tensorflow as tf\n",
    "path = os.path.realpath(os.path.join(os.getcwd(),'../'))\n",
    "sys.path.insert(0, path)\n",
    "import astro_ts_datasets"
   ]
  },
  {
   "cell_type": "code",
   "execution_count": 2,
   "metadata": {},
   "outputs": [
    {
     "data": {
      "application/javascript": [
       "IPython.OutputArea.prototype._should_scroll = function(lines) {\n",
       "    return false;\n",
       "}\n"
      ],
      "text/plain": [
       "<IPython.core.display.Javascript object>"
      ]
     },
     "metadata": {},
     "output_type": "display_data"
    }
   ],
   "source": [
    "%%javascript\n",
    "IPython.OutputArea.prototype._should_scroll = function(lines) {\n",
    "    return false;\n",
    "}"
   ]
  },
  {
   "cell_type": "code",
   "execution_count": 3,
   "metadata": {},
   "outputs": [],
   "source": [
    "tf.compat.v1.enable_eager_execution()"
   ]
  },
  {
   "cell_type": "code",
   "execution_count": 4,
   "metadata": {},
   "outputs": [],
   "source": [
    "drop_fraction = 0.5"
   ]
  },
  {
   "cell_type": "code",
   "execution_count": 5,
   "metadata": {},
   "outputs": [],
   "source": [
    "def augment(*data):\n",
    "    inputs, label = data\n",
    "    static, times, values, measurements, lengths = inputs[0:5]\n",
    "    drop_condition = tf.random.uniform(tf.shape(measurements)) < \\\n",
    "                tf.ones(tf.shape(measurements), dtype=tf.float32) * tf.random.uniform(shape=(1,), minval=0, maxval=drop_fraction)\n",
    "    measurements = tf.where(\n",
    "        drop_condition,\n",
    "        tf.cast(tf.zeros(tf.shape(measurements)), dtype=tf.bool),\n",
    "        measurements\n",
    "    )\n",
    "    return (static, times, values, measurements) + inputs[4:], label"
   ]
  },
  {
   "cell_type": "code",
   "execution_count": 6,
   "metadata": {},
   "outputs": [],
   "source": [
    "def preprocess(*data):\n",
    "    inputs, label = data\n",
    "    static, times, values, measurements, lengths = inputs[0:5]\n",
    "    times = times - times[0]\n",
    "    return (static, times, values, measurements) + inputs[4:], label"
   ]
  },
  {
   "cell_type": "code",
   "execution_count": 7,
   "metadata": {},
   "outputs": [],
   "source": [
    "def test_dataset(name, split, builder_kwargs={}):\n",
    "    ds, info = tfds.load(name=name, split=split, with_info=True, as_supervised=True, builder_kwargs=builder_kwargs)\n",
    "    ds = ds.map(augment)\n",
    "    ds = ds.map(preprocess)\n",
    "    print(info)\n",
    "    for d in ds.take(2):\n",
    "        inputs, label = d\n",
    "        static, times, values, measurements, lengths, static_errors, value_errors = inputs\n",
    "        plt.figure(figsize=(6, 2))\n",
    "        print(static, label)\n",
    "        plt.pcolormesh(times, np.arange(int(values.shape[1])), values.numpy().T)\n",
    "        plt.show()"
   ]
  },
  {
   "cell_type": "code",
   "execution_count": 8,
   "metadata": {},
   "outputs": [
    {
     "name": "stdout",
     "output_type": "stream",
     "text": [
      "WARNING:tensorflow:From <ipython-input-5-913fffbe59a8>:6: where (from tensorflow.python.ops.array_ops) is deprecated and will be removed in a future version.\n",
      "Instructions for updating:\n",
      "Use tf.where in 2.0, which has the same broadcast rule as np.where\n"
     ]
    },
    {
     "name": "stderr",
     "output_type": "stream",
     "text": [
      "WARNING:tensorflow:From <ipython-input-5-913fffbe59a8>:6: where (from tensorflow.python.ops.array_ops) is deprecated and will be removed in a future version.\n",
      "Instructions for updating:\n",
      "Use tf.where in 2.0, which has the same broadcast rule as np.where\n"
     ]
    },
    {
     "name": "stdout",
     "output_type": "stream",
     "text": [
      "tfds.core.DatasetInfo(\n",
      "    name='spcc',\n",
      "    version=1.0.10,\n",
      "    description='',\n",
      "    homepage='https://www.tensorflow.org/datasets/catalog/spcc',\n",
      "    features=FeaturesDict({\n",
      "        'metadata': FeaturesDict({\n",
      "            'object_id': tf.uint32,\n",
      "            'redshift': tf.float32,\n",
      "        }),\n",
      "        'static': Tensor(shape=(2,), dtype=tf.float32),\n",
      "        'static_errors': Tensor(shape=(2,), dtype=tf.float32),\n",
      "        'targets': FeaturesDict({\n",
      "            'class': ClassLabel(shape=(), dtype=tf.int64, num_classes=8),\n",
      "            'sn1a': ClassLabel(shape=(), dtype=tf.int64, num_classes=2),\n",
      "        }),\n",
      "        'time': Tensor(shape=(None,), dtype=tf.float32),\n",
      "        'value_errors': Tensor(shape=(None, 4), dtype=tf.float32),\n",
      "        'values': Tensor(shape=(None, 4), dtype=tf.float32),\n",
      "    }),\n",
      "    total_num_examples=21319,\n",
      "    splits={\n",
      "        'test': 20216,\n",
      "        'train': 1103,\n",
      "    },\n",
      "    supervised_keys=('combined', 'target'),\n",
      "    citation=\"\"\"@article{kessler2010results,\n",
      "      title={Results from the supernova photometric classification challenge},\n",
      "      author={Kessler, Richard and Bassett, Bruce and Belov, Pavel and Bhatnagar, Vasudha and Campbell, Heather and Conley, Alex and Frieman, Joshua A and Glazov, Alexandre and Gonz{'a}lez-Gait{'a}n, Santiago and Hlozek, Ren{'e}e and others},\n",
      "      journal={Publications of the Astronomical Society of the Pacific},\n",
      "      volume={122},\n",
      "      number={898},\n",
      "      pages={1415},\n",
      "      year={2010},\n",
      "      publisher={IOP Publishing}\n",
      "    }\"\"\",\n",
      "    redistribution_info=,\n",
      ")\n",
      "\n",
      "tf.Tensor([0.7126 0.0227], shape=(2,), dtype=float32) tf.Tensor(1, shape=(), dtype=int64)\n"
     ]
    },
    {
     "data": {
      "image/png": "[encoded data removed]",
      "text/plain": [
       "<Figure size 432x144 with 1 Axes>"
      ]
     },
     "metadata": {
      "needs_background": "light"
     },
     "output_type": "display_data"
    },
    {
     "name": "stdout",
     "output_type": "stream",
     "text": [
      "tf.Tensor([0.2622 0.0713], shape=(2,), dtype=float32) tf.Tensor(0, shape=(), dtype=int64)\n"
     ]
    },
    {
     "data": {
      "image/png": "[encoded data removed]",
      "text/plain": [
       "<Figure size 432x144 with 1 Axes>"
      ]
     },
     "metadata": {
      "needs_background": "light"
     },
     "output_type": "display_data"
    }
   ],
   "source": [
    "test_dataset('spcc', 'train', builder_kwargs={'default_target': 'sn1a'})"
   ]
  },
  {
   "cell_type": "code",
   "execution_count": 9,
   "metadata": {},
   "outputs": [
    {
     "name": "stdout",
     "output_type": "stream",
     "text": [
      "tfds.core.DatasetInfo(\n",
      "    name='spcc',\n",
      "    version=1.0.10,\n",
      "    description='',\n",
      "    homepage='https://www.tensorflow.org/datasets/catalog/spcc',\n",
      "    features=FeaturesDict({\n",
      "        'metadata': FeaturesDict({\n",
      "            'object_id': tf.uint32,\n",
      "            'redshift': tf.float32,\n",
      "        }),\n",
      "        'static': Tensor(shape=(2,), dtype=tf.float32),\n",
      "        'static_errors': Tensor(shape=(2,), dtype=tf.float32),\n",
      "        'targets': FeaturesDict({\n",
      "            'class': ClassLabel(shape=(), dtype=tf.int64, num_classes=8),\n",
      "            'sn1a': ClassLabel(shape=(), dtype=tf.int64, num_classes=2),\n",
      "        }),\n",
      "        'time': Tensor(shape=(None,), dtype=tf.float32),\n",
      "        'value_errors': Tensor(shape=(None, 4), dtype=tf.float32),\n",
      "        'values': Tensor(shape=(None, 4), dtype=tf.float32),\n",
      "    }),\n",
      "    total_num_examples=21319,\n",
      "    splits={\n",
      "        'test': 20216,\n",
      "        'train': 1103,\n",
      "    },\n",
      "    supervised_keys=('combined', 'target'),\n",
      "    citation=\"\"\"@article{kessler2010results,\n",
      "      title={Results from the supernova photometric classification challenge},\n",
      "      author={Kessler, Richard and Bassett, Bruce and Belov, Pavel and Bhatnagar, Vasudha and Campbell, Heather and Conley, Alex and Frieman, Joshua A and Glazov, Alexandre and Gonz{'a}lez-Gait{'a}n, Santiago and Hlozek, Ren{'e}e and others},\n",
      "      journal={Publications of the Astronomical Society of the Pacific},\n",
      "      volume={122},\n",
      "      number={898},\n",
      "      pages={1415},\n",
      "      year={2010},\n",
      "      publisher={IOP Publishing}\n",
      "    }\"\"\",\n",
      "    redistribution_info=,\n",
      ")\n",
      "\n",
      "tf.Tensor([0.7126 0.0227], shape=(2,), dtype=float32) tf.Tensor(0, shape=(), dtype=int64)\n"
     ]
    },
    {
     "data": {
      "image/png": "[encoded data removed]",
      "text/plain": [
       "<Figure size 432x144 with 1 Axes>"
      ]
     },
     "metadata": {
      "needs_background": "light"
     },
     "output_type": "display_data"
    },
    {
     "name": "stdout",
     "output_type": "stream",
     "text": [
      "tf.Tensor([0.2622 0.0713], shape=(2,), dtype=float32) tf.Tensor(7, shape=(), dtype=int64)\n"
     ]
    },
    {
     "data": {
      "image/png": "[encoded data removed]",
      "text/plain": [
       "<Figure size 432x144 with 1 Axes>"
      ]
     },
     "metadata": {
      "needs_background": "light"
     },
     "output_type": "display_data"
    }
   ],
   "source": [
    "test_dataset('spcc', 'train')"
   ]
  },
  {
   "cell_type": "code",
   "execution_count": 10,
   "metadata": {},
   "outputs": [
    {
     "name": "stdout",
     "output_type": "stream",
     "text": [
      "\u001b[1mDownloading and preparing dataset plasticc/1.0.10 (download: Unknown size, generated: Unknown size, total: Unknown size) to /Users/adammoss/tensorflow_datasets/plasticc/1.0.10...\u001b[0m\n"
     ]
    },
    {
     "data": {
      "application/vnd.jupyter.widget-view+json": {
       "model_id": "89e70169ea004501abb8e799a2608150",
       "version_major": 2,
       "version_minor": 0
      },
      "text/plain": [
       "HBox(children=(FloatProgress(value=1.0, bar_style='info', description='Dl Completed...', max=1.0, style=Progre…"
      ]
     },
     "metadata": {},
     "output_type": "display_data"
    },
    {
     "data": {
      "application/vnd.jupyter.widget-view+json": {
       "model_id": "fb3783cb5e6b4e10864730202ccd1d25",
       "version_major": 2,
       "version_minor": 0
      },
      "text/plain": [
       "HBox(children=(FloatProgress(value=1.0, bar_style='info', description='Dl Size...', max=1.0, style=ProgressSty…"
      ]
     },
     "metadata": {},
     "output_type": "display_data"
    },
    {
     "name": "stdout",
     "output_type": "stream",
     "text": [
      "\n",
      "\n",
      "\n",
      "\n"
     ]
    },
    {
     "data": {
      "application/vnd.jupyter.widget-view+json": {
       "model_id": "",
       "version_major": 2,
       "version_minor": 0
      },
      "text/plain": [
       "HBox(children=(FloatProgress(value=1.0, bar_style='info', max=1.0), HTML(value='')))"
      ]
     },
     "metadata": {},
     "output_type": "display_data"
    },
    {
     "name": "stdout",
     "output_type": "stream",
     "text": [
      "Shuffling and writing examples to /Users/adammoss/tensorflow_datasets/plasticc/1.0.10.incomplete9FSFBS/plasticc-train.tfrecord\n"
     ]
    },
    {
     "data": {
      "application/vnd.jupyter.widget-view+json": {
       "model_id": "98ab81b815854825a57ce8932fc7a228",
       "version_major": 2,
       "version_minor": 0
      },
      "text/plain": [
       "HBox(children=(FloatProgress(value=0.0, max=7848.0), HTML(value='')))"
      ]
     },
     "metadata": {},
     "output_type": "display_data"
    },
    {
     "data": {
      "application/vnd.jupyter.widget-view+json": {
       "model_id": "",
       "version_major": 2,
       "version_minor": 0
      },
      "text/plain": [
       "HBox(children=(FloatProgress(value=1.0, bar_style='info', max=1.0), HTML(value='')))"
      ]
     },
     "metadata": {},
     "output_type": "display_data"
    },
    {
     "name": "stdout",
     "output_type": "stream",
     "text": [
      "Shuffling and writing examples to /Users/adammoss/tensorflow_datasets/plasticc/1.0.10.incomplete9FSFBS/plasticc-test.tfrecord\n"
     ]
    },
    {
     "data": {
      "application/vnd.jupyter.widget-view+json": {
       "model_id": "3da0f33684cd426ab6681ee7589ccd51",
       "version_major": 2,
       "version_minor": 0
      },
      "text/plain": [
       "HBox(children=(FloatProgress(value=0.0, max=32926.0), HTML(value='')))"
      ]
     },
     "metadata": {},
     "output_type": "display_data"
    },
    {
     "data": {
      "application/vnd.jupyter.widget-view+json": {
       "model_id": "132ab34d640f4e1aaf1807fb97d82ee6",
       "version_major": 2,
       "version_minor": 0
      },
      "text/plain": [
       "HBox(children=(FloatProgress(value=0.0, description='Computing statistics...', max=2.0, style=ProgressStyle(de…"
      ]
     },
     "metadata": {},
     "output_type": "display_data"
    },
    {
     "data": {
      "application/vnd.jupyter.widget-view+json": {
       "model_id": "",
       "version_major": 2,
       "version_minor": 0
      },
      "text/plain": [
       "HBox(children=(FloatProgress(value=1.0, bar_style='info', max=1.0), HTML(value='')))"
      ]
     },
     "metadata": {},
     "output_type": "display_data"
    },
    {
     "name": "stderr",
     "output_type": "stream",
     "text": [
      "ERROR:absl:Statistics generation doesn't work for nested structures yet\n",
      "ERROR:absl:Statistics generation doesn't work for nested structures yet\n"
     ]
    },
    {
     "data": {
      "application/vnd.jupyter.widget-view+json": {
       "model_id": "",
       "version_major": 2,
       "version_minor": 0
      },
      "text/plain": [
       "HBox(children=(FloatProgress(value=1.0, bar_style='info', max=1.0), HTML(value='')))"
      ]
     },
     "metadata": {},
     "output_type": "display_data"
    },
    {
     "name": "stderr",
     "output_type": "stream",
     "text": [
      "ERROR:absl:Statistics generation doesn't work for nested structures yet\n",
      "ERROR:absl:Statistics generation doesn't work for nested structures yet\n"
     ]
    },
    {
     "name": "stdout",
     "output_type": "stream",
     "text": [
      "\n",
      "\u001b[1mDataset plasticc downloaded and prepared to /Users/adammoss/tensorflow_datasets/plasticc/1.0.10. Subsequent calls will reuse this data.\u001b[0m\n",
      "tfds.core.DatasetInfo(\n",
      "    name='plasticc',\n",
      "    version=1.0.10,\n",
      "    description='',\n",
      "    homepage='https://zenodo.org/record/2539456#.XzsWWxNKibs',\n",
      "    features=FeaturesDict({\n",
      "        'metadata': FeaturesDict({\n",
      "            'object_id': tf.uint32,\n",
      "            'redshift': tf.float32,\n",
      "        }),\n",
      "        'static': Tensor(shape=(3,), dtype=tf.float32),\n",
      "        'static_errors': Tensor(shape=(3,), dtype=tf.float32),\n",
      "        'targets': FeaturesDict({\n",
      "            'class': ClassLabel(shape=(), dtype=tf.int64, num_classes=15),\n",
      "            'sn1a': ClassLabel(shape=(), dtype=tf.int64, num_classes=2),\n",
      "        }),\n",
      "        'time': Tensor(shape=(None,), dtype=tf.float32),\n",
      "        'value_errors': Tensor(shape=(None, 6), dtype=tf.float32),\n",
      "        'values': Tensor(shape=(None, 6), dtype=tf.float32),\n",
      "    }),\n",
      "    total_num_examples=40774,\n",
      "    splits={\n",
      "        'test': 32926,\n",
      "        'train': 7848,\n",
      "    },\n",
      "    supervised_keys=('combined', 'target'),\n",
      "    citation=\"\"\"@article{Kessler:2019qge,\n",
      "        author = \"Kessler, R. and others\",\n",
      "        collaboration = \"LSST Dark Energy Science, Transient, Variable Stars Science\",\n",
      "        title = \"{Models and Simulations for the Photometric LSST Astronomical Time Series Classification Challenge (PLAsTiCC)}\",\n",
      "        eprint = \"1903.11756\",\n",
      "        archivePrefix = \"arXiv\",\n",
      "        primaryClass = \"astro-ph.HE\",\n",
      "        doi = \"10.1088/1538-3873/ab26f1\",\n",
      "        journal = \"Publ. Astron. Soc. Pac.\",\n",
      "        volume = \"131\",\n",
      "        number = \"1003\",\n",
      "        pages = \"094501\",\n",
      "        year = \"2019\"\n",
      "    }\"\"\",\n",
      "    redistribution_info=,\n",
      ")\n",
      "\n",
      "tf.Tensor([1.109 0.02  1.   ], shape=(3,), dtype=float32) tf.Tensor(10, shape=(), dtype=int64)\n"
     ]
    },
    {
     "data": {
      "image/png": "[encoded data removed]",
      "text/plain": [
       "<Figure size 432x144 with 1 Axes>"
      ]
     },
     "metadata": {
      "needs_background": "light"
     },
     "output_type": "display_data"
    },
    {
     "name": "stdout",
     "output_type": "stream",
     "text": [
      "tf.Tensor([0.    0.027 0.   ], shape=(3,), dtype=float32) tf.Tensor(8, shape=(), dtype=int64)\n"
     ]
    },
    {
     "data": {
      "image/png": "[encoded data removed]",
      "text/plain": [
       "<Figure size 432x144 with 1 Axes>"
      ]
     },
     "metadata": {
      "needs_background": "light"
     },
     "output_type": "display_data"
    }
   ],
   "source": [
    "test_dataset('plasticc', 'train')"
   ]
  },
  {
   "cell_type": "code",
   "execution_count": null,
   "metadata": {},
   "outputs": [],
   "source": []
  }
 ],
 "metadata": {
  "kernelspec": {
   "display_name": "Python 3",
   "language": "python",
   "name": "python3"
  },
  "language_info": {
   "codemirror_mode": {
    "name": "ipython",
    "version": 3
   },
   "file_extension": ".py",
   "mimetype": "text/x-python",
   "name": "python",
   "nbconvert_exporter": "python",
   "pygments_lexer": "ipython3",
   "version": "3.7.7"
  }
 },
 "nbformat": 4,
 "nbformat_minor": 4
}
